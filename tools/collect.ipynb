{
 "cells": [
  {
   "cell_type": "code",
   "execution_count": 1,
   "metadata": {},
   "outputs": [],
   "source": [
    "import requests\n",
    "import time\n",
    "import pandas as pd\n",
    "from bs4 import BeautifulSoup as bs\n",
    "import csv"
   ]
  },
  {
   "cell_type": "code",
   "execution_count": 2,
   "metadata": {},
   "outputs": [],
   "source": [
    "MAIN_URL = \"https://www.strana.news\"\n",
    "\n",
    "def get_page(nr):\n",
    "    text = requests.get(f'{MAIN_URL}/news/page-{nr}.html').text\n",
    "    soup = bs(text, 'html.parser')\n",
    "    articles = soup.select('.lenta-news.clearfix')\n",
    "    page_articles = []\n",
    "    for a in articles:\n",
    "        url = a.select('.title .article')[0]['href']\n",
    "        title = a.select('.title .article')[0].getText().strip()\n",
    "        page_articles.append({'url': url, 'title': title})\n",
    "    return page_articles\n",
    "\n",
    "def get_article(url : str) -> dict :\n",
    "    text = requests.get(url).text\n",
    "    soup = bs(text, 'html.parser')\n",
    "    # raw_meta = soup.select(\"script[type='application/ld+json']\")[0].get_text().replace(\"\\n\", \"\")\n",
    "    try:\n",
    "        article_main = soup.select('.articles')[0]\n",
    "        title = article_main.select('.article-title.article-edit .article')[0].getText()\n",
    "        datetime = article_main.select('.date span.strana-adate')[0]['data-time']\n",
    "        article_text = article_main.select('.article-text')[0]\n",
    "        try:\n",
    "            image_url = article_text.select('.article-image img')[0]['src']\n",
    "        except:\n",
    "            image_url = \"\"\n",
    "        try:\n",
    "            caption = article_text.select('.caption')[0].get_text().strip()\n",
    "        except:\n",
    "            caption = \"\"\n",
    "        text = article_text.select('#article-body p')\n",
    "        content = ''\n",
    "        for i in text:\n",
    "            content += i.get_text().strip() + \" \"\n",
    "        return {'title': title, 'url': url, 'image': image_url, 'caption': caption, 'content': content, 'datetime': datetime}\n",
    "    except:\n",
    "        pass"
   ]
  },
  {
   "cell_type": "code",
   "execution_count": 3,
   "metadata": {},
   "outputs": [],
   "source": [
    "# Shortened (errored) article\n",
    "\n",
    "def get_shortened_article(url):\n",
    "    text = requests.get(url).text\n",
    "    soup = bs(text, 'html.parser')\n",
    "    article_main = soup.select('.article')[0]\n",
    "    title = article_main.select('.article-title.article-edit')[0].getText().strip()\n",
    "\n",
    "    art_date = article_main.select('.date span.strana-adate')[0]['data-time']\n",
    "    art_time = article_main.select('.date')[0].getText().split(',')[0]\n",
    "    if art_time.startswith('\\n'):\n",
    "        art_time = \"11:00\"\n",
    "    datetime = art_date + \" \" +  art_time + ':00'\n",
    "    article_text = article_main.select('.article-text')[0]\n",
    "    try:\n",
    "        image_url = article_text.select('.article-image img')[0]['src']\n",
    "    except:\n",
    "        image_url = \"\"\n",
    "    try:\n",
    "        caption = article_text.select('.caption')[0].get_text().strip()\n",
    "    except:\n",
    "        caption = \"\"\n",
    "    text = article_text.select('#article-body p')\n",
    "    content = ''\n",
    "    for i in text:\n",
    "        content += i.get_text().strip() + \" \"\n",
    "    return {'title': title, 'url': url, 'image': image_url, 'caption': caption, 'content': content, 'datetime': datetime}\n",
    "\n",
    "# get_shortened_article('https://strana.news/news/145928-zlata-ohnevich-na-chm-2018-budet-bolet-za-ispaniju-a-irina-jusupova-za-ehipet.html')\n",
    "# get_shortened_article('https://strana.news/news/453886-itohi-671-dnja-vojny-v-ukraine.html')"
   ]
  },
  {
   "cell_type": "code",
   "execution_count": 8,
   "metadata": {},
   "outputs": [],
   "source": [
    "# OPTIONAL\n",
    "# Collects links and title\n",
    "\n",
    "# PROTECTION WITH THE FILE NAME - pages2.csv\n",
    "f = open ('pages.csv','a')\n",
    "f.write(\"url,title\\n\")\n",
    "for ind, pagenr in enumerate(range(30,0,-1)):\n",
    "    articles_on_page = get_page(pagenr)\n",
    "    for a in articles_on_page:\n",
    "        f.write(f\"{MAIN_URL}{a['url']}\"+\",\"+a['title'].replace(\",\", \"\")+\"\\n\")\n",
    "    if pagenr % 100 == 0:\n",
    "        print(\"Page \" + str(pagenr) + \" written\")\n",
    "    time.sleep(0.2)\n",
    "\n",
    "f.close()"
   ]
  },
  {
   "cell_type": "code",
   "execution_count": null,
   "metadata": {},
   "outputs": [],
   "source": [
    "# OPTIONAL\n",
    "# CLEANING DUPLICATES IN PAGES.CSV file\n",
    "\n",
    "ds = pd.read_csv('./pages2.csv')\n",
    "len1 = len(ds)\n",
    "ds.drop_duplicates(inplace=True)\n",
    "len2 = len(ds)\n",
    "print (f'Difference is {len1-len2} articles')\n",
    "if (len1 - len2) > 0:\n",
    "    ds.to_csv('./pages.csv', index=False)\n",
    "    print ('File updated')    "
   ]
  },
  {
   "cell_type": "code",
   "execution_count": 10,
   "metadata": {},
   "outputs": [
    {
     "name": "stdout",
     "output_type": "stream",
     "text": [
      "...\n",
      "Last item is :url      https://www.strana.news/news/453886-itohi-671-...\n",
      "title    Риски закона о мобилизации как потопили \"Новоч...\n",
      "Name: 71, dtype: object\n"
     ]
    }
   ],
   "source": [
    "# Fetches n articles urls from pages.csv file and appends to the file\n",
    "# Headers to be included if NEW FILE\n",
    "\n",
    "ITERS = 2000\n",
    "\n",
    "FILE = './strana_articles26.csv'\n",
    "\n",
    "header = ['title','url', 'image', 'caption', 'content', 'datetime']\n",
    "#links = pd.read_csv('pages.csv') # PROCESS ORIGINAL PAGES\n",
    "links = pd.read_csv('./strana_errors.csv') # PROCESS ERROR PAGES\n",
    "\n",
    "#error_links = open('./strana_errors.csv', 'a') # IF ORIGINAL FILE PROCESSED\n",
    "error_links = open('./strana_errors2.csv', 'a') # IF ERROR FILE PROCESSED\n",
    "\n",
    "with open(FILE, 'a') as csvfile:\n",
    "    writer = csv.DictWriter(csvfile, fieldnames=header)\n",
    "    #writer.writeheader()\n",
    "    for ind, row in links.iterrows():\n",
    "        #art = get_article(row['url'])\n",
    "        art = get_shortened_article(row['url'])\n",
    "        try:\n",
    "            writer.writerow({'title': art['title'], 'url': art['url'], 'image': art['image'], 'caption': art['caption'],\n",
    "                             'content': art['content'], 'datetime': art['datetime']})\n",
    "        except:\n",
    "            error_links.write(f\"{row['url']},{row['title']}\\n\")\n",
    "            pass\n",
    "        if ind == ITERS:\n",
    "            break\n",
    "        if ind % 20 == 0 and ind % 200 != 0 and ind % 1000 != 0 and ind !=0:\n",
    "            print(\".\", end='')\n",
    "        if ind % 200 == 0 and ind % 1000 !=0 and ind != 0:\n",
    "            print(\"|\", end='')\n",
    "        if ind % 1000 == 0 and ind != 0:\n",
    "            print (str(ind), end='\\n')\n",
    "        time.sleep(0.5) # set half a second instead of 0.25\n",
    "\n",
    "print (f\"\\nLast item is :{row}\")\n",
    "error_links.close()"
   ]
  },
  {
   "cell_type": "code",
   "execution_count": 6,
   "metadata": {},
   "outputs": [],
   "source": [
    "error_links.close()"
   ]
  },
  {
   "cell_type": "code",
   "execution_count": null,
   "metadata": {},
   "outputs": [],
   "source": [
    "# download missing content to pages.csv\n",
    "# parse to strana_articles_temp.csv\n",
    "# inspect duplicated items and move them to articles.csv\n",
    "# consider to separate the dataset into multiple file\n",
    "# consider to process data"
   ]
  },
  {
   "cell_type": "code",
   "execution_count": null,
   "metadata": {},
   "outputs": [],
   "source": [
    "import pandas as pd"
   ]
  },
  {
   "cell_type": "code",
   "execution_count": null,
   "metadata": {},
   "outputs": [],
   "source": [
    "df = pd.read_csv('./strana_articles.csv', delimiter='\\t')"
   ]
  },
  {
   "cell_type": "code",
   "execution_count": null,
   "metadata": {},
   "outputs": [],
   "source": [
    "len(df)"
   ]
  },
  {
   "cell_type": "code",
   "execution_count": null,
   "metadata": {},
   "outputs": [],
   "source": [
    "# RECOGNIZE EMPTY & ERRATIC SHIT\n",
    "counter = 0\n",
    "for item in range(len(df)):\n",
    "    if len(df.iloc[item]['datetime'].split()) < 2 :\n",
    "            counter += 1\n",
    "            # print (df.iloc[item]['title'])"
   ]
  },
  {
   "cell_type": "code",
   "execution_count": null,
   "metadata": {},
   "outputs": [],
   "source": [
    "print (counter)"
   ]
  },
  {
   "cell_type": "code",
   "execution_count": null,
   "metadata": {},
   "outputs": [],
   "source": [
    "df.iloc[12]['title']"
   ]
  },
  {
   "cell_type": "code",
   "execution_count": null,
   "metadata": {},
   "outputs": [],
   "source": [
    "df2 = df.drop_duplicates()"
   ]
  },
  {
   "cell_type": "code",
   "execution_count": null,
   "metadata": {},
   "outputs": [],
   "source": [
    "df2.to_csv('./strana_articles2.csv', index=False)"
   ]
  },
  {
   "cell_type": "code",
   "execution_count": null,
   "metadata": {},
   "outputs": [],
   "source": [
    "print (a)"
   ]
  },
  {
   "cell_type": "code",
   "execution_count": 47,
   "metadata": {},
   "outputs": [
    {
     "data": {
      "text/plain": [
       "{'title': 'Германия не видит необходимости увеличивать помощь Украине - глава Минфина ФРГ',\n",
       " 'url': 'https://strana.news/news/453914-hermanija-ne-vidit-prichin-uvelichivat-voennuju-i-finansovuju-pomoshch-ukraine.html',\n",
       " 'image': '/img/article/4539/hermanija-ne-vidit-14_main.jpeg',\n",
       " 'caption': 'глава Минфина ФРГ Кристиан Линднер. Фото: из открытых источников',\n",
       " 'content': 'Германия не видит причин увеличивать военную и финансовую помощь Украине. Учитывая значительные\\xa0усилия Берлина, на данный момент не видит предпосылок для увеличения размеров военной и финансовой помощи Украине. Об этом заявил глава Минфина ФРГ Кристиан Линднер в эфире N-TV. \"Мы поставляем системы вооружения, оказываем финансовую помощь и обеспечиваем защиту многим украинцам в Германии. Мы уже являемся вторым по величине донором Украины в мире. Германия финансирует добрую половину всей помощи из Европы. В настоящее время нет никаких признаков того, что необходимо сделать больше\", – сказал Линднер. При этом отметил, что Германия заинтересована в увеличении доли помощи от других европейских стран. \"Не может быть так, чтобы другие делали меньше, потому что Германия делает больше\", — объяснил он.  Ранее мы анализировали и писали, что Германия столкнулась с острейшим бюджетным кризисом и как это скажется на помощи Украине. Недавно\\xa0Германия объявила о новом пакете военной помощи для Украины. В него вошли боеприпасы и \"Гепарды\". Война в Украине идет уже 671-й день.\\xa0Мы следим за последними новостями и ключевыми событиями 26 декабря 2023 года в обновляемом онлайне. Ранее мы подводили итоги  предыдущего дня.\\xa0Генштаб ВСУ заявил о многочисленных атаках россиян в районе Синьковки под Купянском, а также более чем 30 штурмах в районе Авдеевки. Сообщается, что они были отбиты. В РФ министр обороны Шойгу заявил Путину о полном захвате Марьинки в Донецкой области. В\\xa0ВСУ опровергают заявление Шойгу. Карты вторжения, главные новости, фото и видео публикуются в нашем Telegram-канале. Чтобы всегда быть в курсе самого важного, рекомендуем скачать наши приложения в\\xa0AppStore\\xa0и\\xa0Google Play. ',\n",
       " 'datetime': '2023-12-26 23:54:00'}"
      ]
     },
     "execution_count": 47,
     "metadata": {},
     "output_type": "execute_result"
    }
   ],
   "source": [
    "get_article('https://strana.news/news/453914-hermanija-ne-vidit-prichin-uvelichivat-voennuju-i-finansovuju-pomoshch-ukraine.html')"
   ]
  }
 ],
 "metadata": {
  "kernelspec": {
   "display_name": "venv",
   "language": "python",
   "name": "python3"
  },
  "language_info": {
   "codemirror_mode": {
    "name": "ipython",
    "version": 3
   },
   "file_extension": ".py",
   "mimetype": "text/x-python",
   "name": "python",
   "nbconvert_exporter": "python",
   "pygments_lexer": "ipython3",
   "version": "3.10.13"
  }
 },
 "nbformat": 4,
 "nbformat_minor": 2
}
