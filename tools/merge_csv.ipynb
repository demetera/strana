{
 "cells": [
  {
   "cell_type": "code",
   "execution_count": 1,
   "metadata": {},
   "outputs": [],
   "source": [
    "# PROCESS CSV DATAFRAME\n",
    "# MULTIPLE FILES INTO\n",
    "# SEARCH TEXT IN DATAFRAME\n",
    "\n",
    "import pandas as pd\n",
    "import glob"
   ]
  },
  {
   "cell_type": "code",
   "execution_count": 17,
   "metadata": {},
   "outputs": [],
   "source": [
    "# MERGE CSV FILES INTO ONE DATASET + SORTING BY DATE\n",
    "files = glob.glob('../data/*')\n",
    "\n",
    "final_dataset = []\n",
    "for filename in files:\n",
    "    df = pd.read_csv(filename, index_col=None, header=0)\n",
    "    final_dataset.append(df)\n",
    "\n",
    "merged_df = pd.concat(final_dataset, axis=0, ignore_index=True)\n",
    "merged_df = merged_df.sort_values(by='datetime', ascending=True)"
   ]
  },
  {
   "cell_type": "code",
   "execution_count": 18,
   "metadata": {},
   "outputs": [
    {
     "name": "stdout",
     "output_type": "stream",
     "text": [
      "224226\n",
      "0\n"
     ]
    }
   ],
   "source": [
    "# Check duplicates by url column and removes them if more than 0\n",
    "\n",
    "print (len(merged_df)) # OLD SIZE\n",
    "duplicated = merged_df.duplicated(subset=['url'])\n",
    "print(len(merged_df[duplicated]))\n",
    "if len (merged_df[duplicated]) > 0:\n",
    "    duplicates = merged_df[merged_df.duplicated(subset=['url'])] # duplicated series\n",
    "    merged_df.drop_duplicates(subset=['url'], keep='first', inplace=True)\n",
    "    print (len(merged_df)) # NEW SIZE"
   ]
  },
  {
   "cell_type": "code",
   "execution_count": null,
   "metadata": {},
   "outputs": [],
   "source": [
    "# SAVES DATASET AS NEW CSV FILE\n",
    "# merged_df.to_csv('../data/strana_articles.csv', index=False)\n",
    "\n",
    "# SAVES AS PARQUET FILE\n",
    "# merged_df.to_parquet('../data/strana.parquet', index=False)"
   ]
  },
  {
   "cell_type": "code",
   "execution_count": null,
   "metadata": {},
   "outputs": [],
   "source": [
    "# Search text in column\n",
    "\n",
    "# result = merged_df[merged_df['title'].str.contains('В России заявили, что Украина упустила возможн')]\n",
    "# print (result)"
   ]
  },
  {
   "cell_type": "code",
   "execution_count": 21,
   "metadata": {},
   "outputs": [
    {
     "name": "stdout",
     "output_type": "stream",
     "text": [
      "Empty DataFrame\n",
      "Columns: [title, url, image, caption, content, datetime]\n",
      "Index: []\n"
     ]
    }
   ],
   "source": [
    "# CHECK DATETIME COLUMN LENGTH AND SHOWS RESULTS IF MORE THAN 20\n",
    "result = merged_df[merged_df['datetime'].str.len() > 20]\n",
    "print (result)"
   ]
  },
  {
   "cell_type": "code",
   "execution_count": null,
   "metadata": {},
   "outputs": [],
   "source": [
    "# LONGEST STRING LENGTH\n",
    "max_length = merged_df['content'].str.len().max()\n",
    "print (max_length)\n",
    "\n",
    "#LONGEST STRING ITSELF\n",
    "longest_string = max(merged_df['content'], key=len)\n",
    "print(longest_string)"
   ]
  },
  {
   "cell_type": "code",
   "execution_count": null,
   "metadata": {},
   "outputs": [],
   "source": [
    "# REMOVES ALL ROWS WHERE `content` COLUMN ROW MORE THAN 60k\n",
    "\n",
    "merged_df_copy = merged_df.copy()\n",
    "\n",
    "merged_df_filtered = merged_df[merged_df['content'].str.len() <= 60000]\n",
    "print (len (merged_df))\n",
    "\n",
    "removed_rows = merged_df_copy.drop(merged_df_filtered.index)\n",
    "print(removed_rows['title'])\n",
    "\n",
    "# INPLACE\n",
    "# merged_df.drop(merged_df[merged_df['column_name'].str.len() > 60000].index, inplace=True)"
   ]
  }
 ],
 "metadata": {
  "kernelspec": {
   "display_name": "venv",
   "language": "python",
   "name": "python3"
  },
  "language_info": {
   "codemirror_mode": {
    "name": "ipython",
    "version": 3
   },
   "file_extension": ".py",
   "mimetype": "text/x-python",
   "name": "python",
   "nbconvert_exporter": "python",
   "pygments_lexer": "ipython3",
   "version": "3.10.13"
  }
 },
 "nbformat": 4,
 "nbformat_minor": 2
}
